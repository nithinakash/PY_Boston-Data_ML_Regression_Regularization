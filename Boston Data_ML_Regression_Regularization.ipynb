{
 "cells": [
  {
   "cell_type": "markdown",
   "id": "e0f085c2",
   "metadata": {},
   "source": [
    "### Packages Required"
   ]
  },
  {
   "cell_type": "code",
   "execution_count": 49,
   "id": "7e818eb8",
   "metadata": {},
   "outputs": [],
   "source": [
    "import pandas as pd\n",
    "import numpy as np\n",
    "import matplotlib.pyplot as plt\n",
    "import seaborn as sns\n",
    "%matplotlib inline\n",
    "from sklearn.model_selection import train_test_split\n",
    "from sklearn import metrics\n",
    "\n",
    "from sklearn import linear_model\n",
    "from sklearn.linear_model import LinearRegression"
   ]
  },
  {
   "cell_type": "markdown",
   "id": "51fc64f8",
   "metadata": {},
   "source": [
    "### Dataset"
   ]
  },
  {
   "cell_type": "code",
   "execution_count": 6,
   "id": "e083aec1",
   "metadata": {},
   "outputs": [],
   "source": [
    "df = pd.read_csv('C:/Users/Nithin/Downloads/Regularizationn/Datasets/BostonData.csv')"
   ]
  },
  {
   "cell_type": "code",
   "execution_count": 10,
   "id": "5eb91e4b",
   "metadata": {},
   "outputs": [
    {
     "name": "stdout",
     "output_type": "stream",
     "text": [
      "<class 'pandas.core.frame.DataFrame'>\n",
      "RangeIndex: 506 entries, 0 to 505\n",
      "Data columns (total 15 columns):\n",
      " #   Column    Non-Null Count  Dtype  \n",
      "---  ------    --------------  -----  \n",
      " 0   CRIM      506 non-null    float64\n",
      " 1   ZN        506 non-null    float64\n",
      " 2   INDUS     506 non-null    float64\n",
      " 3   CHAS      506 non-null    int64  \n",
      " 4   NOX       506 non-null    float64\n",
      " 5   RM        506 non-null    float64\n",
      " 6   AGE       506 non-null    float64\n",
      " 7   DIS       506 non-null    float64\n",
      " 8   RAD       506 non-null    int64  \n",
      " 9   TAX       506 non-null    float64\n",
      " 10  PTRATIO   506 non-null    float64\n",
      " 11  B         506 non-null    float64\n",
      " 12  LSTAT     506 non-null    float64\n",
      " 13  Price     506 non-null    float64\n",
      " 14  ln_Price  506 non-null    float64\n",
      "dtypes: float64(13), int64(2)\n",
      "memory usage: 59.4 KB\n"
     ]
    }
   ],
   "source": [
    "df.info()"
   ]
  },
  {
   "cell_type": "markdown",
   "id": "c55ddeec",
   "metadata": {},
   "source": [
    "### Train & Test Data"
   ]
  },
  {
   "cell_type": "code",
   "execution_count": 43,
   "id": "74278560",
   "metadata": {},
   "outputs": [],
   "source": [
    "X = df.iloc[:,0:13]\n",
    "Y = df.iloc[:,14]"
   ]
  },
  {
   "cell_type": "code",
   "execution_count": 46,
   "id": "ba54fff9",
   "metadata": {},
   "outputs": [],
   "source": [
    "train_x,test_x,train_y,test_y = train_test_split(X,Y,test_size=0.3,random_state=123)"
   ]
  },
  {
   "cell_type": "markdown",
   "id": "a02ee184",
   "metadata": {},
   "source": [
    "## Without Regularization"
   ]
  },
  {
   "cell_type": "markdown",
   "id": "386eda67",
   "metadata": {},
   "source": [
    "##### Linear Regression (OLS)"
   ]
  },
  {
   "cell_type": "code",
   "execution_count": 47,
   "id": "1998e698",
   "metadata": {},
   "outputs": [
    {
     "data": {
      "text/plain": [
       "LinearRegression()"
      ]
     },
     "execution_count": 47,
     "metadata": {},
     "output_type": "execute_result"
    }
   ],
   "source": [
    "LNR = LinearRegression()\n",
    "LNR.fit(train_x,train_y)"
   ]
  },
  {
   "cell_type": "code",
   "execution_count": 52,
   "id": "f454c7c6",
   "metadata": {},
   "outputs": [
    {
     "data": {
      "text/html": [
       "<div>\n",
       "<style scoped>\n",
       "    .dataframe tbody tr th:only-of-type {\n",
       "        vertical-align: middle;\n",
       "    }\n",
       "\n",
       "    .dataframe tbody tr th {\n",
       "        vertical-align: top;\n",
       "    }\n",
       "\n",
       "    .dataframe thead th {\n",
       "        text-align: right;\n",
       "    }\n",
       "</style>\n",
       "<table border=\"1\" class=\"dataframe\">\n",
       "  <thead>\n",
       "    <tr style=\"text-align: right;\">\n",
       "      <th></th>\n",
       "      <th>co_eff_nonreg</th>\n",
       "    </tr>\n",
       "  </thead>\n",
       "  <tbody>\n",
       "    <tr>\n",
       "      <th>CRIM</th>\n",
       "      <td>-4.037853e-02</td>\n",
       "    </tr>\n",
       "    <tr>\n",
       "      <th>ZN</th>\n",
       "      <td>2.212206e-04</td>\n",
       "    </tr>\n",
       "    <tr>\n",
       "      <th>INDUS</th>\n",
       "      <td>3.214572e-03</td>\n",
       "    </tr>\n",
       "    <tr>\n",
       "      <th>CHAS</th>\n",
       "      <td>1.328104e-14</td>\n",
       "    </tr>\n",
       "    <tr>\n",
       "      <th>NOX</th>\n",
       "      <td>-7.840635e-01</td>\n",
       "    </tr>\n",
       "    <tr>\n",
       "      <th>RM</th>\n",
       "      <td>1.563129e-01</td>\n",
       "    </tr>\n",
       "    <tr>\n",
       "      <th>AGE</th>\n",
       "      <td>-1.036088e-03</td>\n",
       "    </tr>\n",
       "    <tr>\n",
       "      <th>DIS</th>\n",
       "      <td>-5.492814e-02</td>\n",
       "    </tr>\n",
       "    <tr>\n",
       "      <th>RAD</th>\n",
       "      <td>1.921713e-02</td>\n",
       "    </tr>\n",
       "    <tr>\n",
       "      <th>TAX</th>\n",
       "      <td>-4.553392e-04</td>\n",
       "    </tr>\n",
       "    <tr>\n",
       "      <th>PTRATIO</th>\n",
       "      <td>-3.231885e-02</td>\n",
       "    </tr>\n",
       "    <tr>\n",
       "      <th>B</th>\n",
       "      <td>2.132755e-04</td>\n",
       "    </tr>\n",
       "    <tr>\n",
       "      <th>LSTAT</th>\n",
       "      <td>-2.359306e-02</td>\n",
       "    </tr>\n",
       "  </tbody>\n",
       "</table>\n",
       "</div>"
      ],
      "text/plain": [
       "         co_eff_nonreg\n",
       "CRIM     -4.037853e-02\n",
       "ZN        2.212206e-04\n",
       "INDUS     3.214572e-03\n",
       "CHAS      1.328104e-14\n",
       "NOX      -7.840635e-01\n",
       "RM        1.563129e-01\n",
       "AGE      -1.036088e-03\n",
       "DIS      -5.492814e-02\n",
       "RAD       1.921713e-02\n",
       "TAX      -4.553392e-04\n",
       "PTRATIO  -3.231885e-02\n",
       "B         2.132755e-04\n",
       "LSTAT    -2.359306e-02"
      ]
     },
     "execution_count": 52,
     "metadata": {},
     "output_type": "execute_result"
    }
   ],
   "source": [
    "co_eff_nonreg = pd.DataFrame(LNR.coef_,train_x.columns,columns=['co_eff_nonreg'])\n",
    "co_eff_nonreg"
   ]
  },
  {
   "cell_type": "markdown",
   "id": "2bc236ec",
   "metadata": {},
   "source": [
    "##### Linear Regression (Ridge)"
   ]
  },
  {
   "cell_type": "code",
   "execution_count": 53,
   "id": "00c2fbdc",
   "metadata": {},
   "outputs": [
    {
     "data": {
      "text/plain": [
       "Ridge(alpha=0.05)"
      ]
     },
     "execution_count": 53,
     "metadata": {},
     "output_type": "execute_result"
    }
   ],
   "source": [
    "RID = linear_model.Ridge(alpha=0.05)\n",
    "RID.fit(train_x,train_y)"
   ]
  },
  {
   "cell_type": "code",
   "execution_count": 54,
   "id": "2fe35fbe",
   "metadata": {},
   "outputs": [
    {
     "data": {
      "text/html": [
       "<div>\n",
       "<style scoped>\n",
       "    .dataframe tbody tr th:only-of-type {\n",
       "        vertical-align: middle;\n",
       "    }\n",
       "\n",
       "    .dataframe tbody tr th {\n",
       "        vertical-align: top;\n",
       "    }\n",
       "\n",
       "    .dataframe thead th {\n",
       "        text-align: right;\n",
       "    }\n",
       "</style>\n",
       "<table border=\"1\" class=\"dataframe\">\n",
       "  <thead>\n",
       "    <tr style=\"text-align: right;\">\n",
       "      <th></th>\n",
       "      <th>co_eff_ridge</th>\n",
       "    </tr>\n",
       "  </thead>\n",
       "  <tbody>\n",
       "    <tr>\n",
       "      <th>CRIM</th>\n",
       "      <td>-0.040803</td>\n",
       "    </tr>\n",
       "    <tr>\n",
       "      <th>ZN</th>\n",
       "      <td>0.000197</td>\n",
       "    </tr>\n",
       "    <tr>\n",
       "      <th>INDUS</th>\n",
       "      <td>0.003012</td>\n",
       "    </tr>\n",
       "    <tr>\n",
       "      <th>CHAS</th>\n",
       "      <td>0.000000</td>\n",
       "    </tr>\n",
       "    <tr>\n",
       "      <th>NOX</th>\n",
       "      <td>-0.701910</td>\n",
       "    </tr>\n",
       "    <tr>\n",
       "      <th>RM</th>\n",
       "      <td>0.157166</td>\n",
       "    </tr>\n",
       "    <tr>\n",
       "      <th>AGE</th>\n",
       "      <td>-0.001089</td>\n",
       "    </tr>\n",
       "    <tr>\n",
       "      <th>DIS</th>\n",
       "      <td>-0.052959</td>\n",
       "    </tr>\n",
       "    <tr>\n",
       "      <th>RAD</th>\n",
       "      <td>0.019131</td>\n",
       "    </tr>\n",
       "    <tr>\n",
       "      <th>TAX</th>\n",
       "      <td>-0.000460</td>\n",
       "    </tr>\n",
       "    <tr>\n",
       "      <th>PTRATIO</th>\n",
       "      <td>-0.031928</td>\n",
       "    </tr>\n",
       "    <tr>\n",
       "      <th>B</th>\n",
       "      <td>0.000215</td>\n",
       "    </tr>\n",
       "    <tr>\n",
       "      <th>LSTAT</th>\n",
       "      <td>-0.023642</td>\n",
       "    </tr>\n",
       "  </tbody>\n",
       "</table>\n",
       "</div>"
      ],
      "text/plain": [
       "         co_eff_ridge\n",
       "CRIM        -0.040803\n",
       "ZN           0.000197\n",
       "INDUS        0.003012\n",
       "CHAS         0.000000\n",
       "NOX         -0.701910\n",
       "RM           0.157166\n",
       "AGE         -0.001089\n",
       "DIS         -0.052959\n",
       "RAD          0.019131\n",
       "TAX         -0.000460\n",
       "PTRATIO     -0.031928\n",
       "B            0.000215\n",
       "LSTAT       -0.023642"
      ]
     },
     "execution_count": 54,
     "metadata": {},
     "output_type": "execute_result"
    }
   ],
   "source": [
    "co_eff_ridge = pd.DataFrame(RID.coef_,train_x.columns,columns=['co_eff_ridge'])\n",
    "co_eff_ridge"
   ]
  },
  {
   "cell_type": "markdown",
   "id": "8b4ebaf7",
   "metadata": {},
   "source": [
    "##### Linear Regression (Lasso)"
   ]
  },
  {
   "cell_type": "code",
   "execution_count": 55,
   "id": "5aac0830",
   "metadata": {},
   "outputs": [
    {
     "data": {
      "text/plain": [
       "Lasso(alpha=0.05)"
      ]
     },
     "execution_count": 55,
     "metadata": {},
     "output_type": "execute_result"
    }
   ],
   "source": [
    "LAS = linear_model.Lasso(alpha=0.05)\n",
    "LAS.fit(train_x,train_y)"
   ]
  },
  {
   "cell_type": "code",
   "execution_count": 56,
   "id": "62484f9c",
   "metadata": {},
   "outputs": [
    {
     "data": {
      "text/html": [
       "<div>\n",
       "<style scoped>\n",
       "    .dataframe tbody tr th:only-of-type {\n",
       "        vertical-align: middle;\n",
       "    }\n",
       "\n",
       "    .dataframe tbody tr th {\n",
       "        vertical-align: top;\n",
       "    }\n",
       "\n",
       "    .dataframe thead th {\n",
       "        text-align: right;\n",
       "    }\n",
       "</style>\n",
       "<table border=\"1\" class=\"dataframe\">\n",
       "  <thead>\n",
       "    <tr style=\"text-align: right;\">\n",
       "      <th></th>\n",
       "      <th>co_eff_lasso</th>\n",
       "    </tr>\n",
       "  </thead>\n",
       "  <tbody>\n",
       "    <tr>\n",
       "      <th>CRIM</th>\n",
       "      <td>-0.000000</td>\n",
       "    </tr>\n",
       "    <tr>\n",
       "      <th>ZN</th>\n",
       "      <td>0.000463</td>\n",
       "    </tr>\n",
       "    <tr>\n",
       "      <th>INDUS</th>\n",
       "      <td>-0.000000</td>\n",
       "    </tr>\n",
       "    <tr>\n",
       "      <th>CHAS</th>\n",
       "      <td>0.000000</td>\n",
       "    </tr>\n",
       "    <tr>\n",
       "      <th>NOX</th>\n",
       "      <td>-0.000000</td>\n",
       "    </tr>\n",
       "    <tr>\n",
       "      <th>RM</th>\n",
       "      <td>0.000000</td>\n",
       "    </tr>\n",
       "    <tr>\n",
       "      <th>AGE</th>\n",
       "      <td>0.000422</td>\n",
       "    </tr>\n",
       "    <tr>\n",
       "      <th>DIS</th>\n",
       "      <td>-0.000000</td>\n",
       "    </tr>\n",
       "    <tr>\n",
       "      <th>RAD</th>\n",
       "      <td>0.002300</td>\n",
       "    </tr>\n",
       "    <tr>\n",
       "      <th>TAX</th>\n",
       "      <td>-0.000375</td>\n",
       "    </tr>\n",
       "    <tr>\n",
       "      <th>PTRATIO</th>\n",
       "      <td>-0.003733</td>\n",
       "    </tr>\n",
       "    <tr>\n",
       "      <th>B</th>\n",
       "      <td>0.000000</td>\n",
       "    </tr>\n",
       "    <tr>\n",
       "      <th>LSTAT</th>\n",
       "      <td>-0.036575</td>\n",
       "    </tr>\n",
       "  </tbody>\n",
       "</table>\n",
       "</div>"
      ],
      "text/plain": [
       "         co_eff_lasso\n",
       "CRIM        -0.000000\n",
       "ZN           0.000463\n",
       "INDUS       -0.000000\n",
       "CHAS         0.000000\n",
       "NOX         -0.000000\n",
       "RM           0.000000\n",
       "AGE          0.000422\n",
       "DIS         -0.000000\n",
       "RAD          0.002300\n",
       "TAX         -0.000375\n",
       "PTRATIO     -0.003733\n",
       "B            0.000000\n",
       "LSTAT       -0.036575"
      ]
     },
     "execution_count": 56,
     "metadata": {},
     "output_type": "execute_result"
    }
   ],
   "source": [
    "co_eff_lasso = pd.DataFrame(LAS.coef_,train_x.columns,columns=['co_eff_lasso'])\n",
    "co_eff_lasso"
   ]
  },
  {
   "cell_type": "markdown",
   "id": "713b28b7",
   "metadata": {},
   "source": [
    "##### Linear Regression (Elastic Net)"
   ]
  },
  {
   "cell_type": "code",
   "execution_count": 57,
   "id": "3aeb4173",
   "metadata": {},
   "outputs": [
    {
     "data": {
      "text/plain": [
       "ElasticNet(alpha=0.05)"
      ]
     },
     "execution_count": 57,
     "metadata": {},
     "output_type": "execute_result"
    }
   ],
   "source": [
    "ELN = linear_model.ElasticNet(alpha=0.05)\n",
    "ELN.fit(train_x,train_y)"
   ]
  },
  {
   "cell_type": "code",
   "execution_count": 58,
   "id": "e35ff5bb",
   "metadata": {},
   "outputs": [
    {
     "data": {
      "text/html": [
       "<div>\n",
       "<style scoped>\n",
       "    .dataframe tbody tr th:only-of-type {\n",
       "        vertical-align: middle;\n",
       "    }\n",
       "\n",
       "    .dataframe tbody tr th {\n",
       "        vertical-align: top;\n",
       "    }\n",
       "\n",
       "    .dataframe thead th {\n",
       "        text-align: right;\n",
       "    }\n",
       "</style>\n",
       "<table border=\"1\" class=\"dataframe\">\n",
       "  <thead>\n",
       "    <tr style=\"text-align: right;\">\n",
       "      <th></th>\n",
       "      <th>co_eff_elastic</th>\n",
       "    </tr>\n",
       "  </thead>\n",
       "  <tbody>\n",
       "    <tr>\n",
       "      <th>CRIM</th>\n",
       "      <td>-0.000000</td>\n",
       "    </tr>\n",
       "    <tr>\n",
       "      <th>ZN</th>\n",
       "      <td>0.000186</td>\n",
       "    </tr>\n",
       "    <tr>\n",
       "      <th>INDUS</th>\n",
       "      <td>-0.000000</td>\n",
       "    </tr>\n",
       "    <tr>\n",
       "      <th>CHAS</th>\n",
       "      <td>0.000000</td>\n",
       "    </tr>\n",
       "    <tr>\n",
       "      <th>NOX</th>\n",
       "      <td>-0.000000</td>\n",
       "    </tr>\n",
       "    <tr>\n",
       "      <th>RM</th>\n",
       "      <td>0.000000</td>\n",
       "    </tr>\n",
       "    <tr>\n",
       "      <th>AGE</th>\n",
       "      <td>0.000580</td>\n",
       "    </tr>\n",
       "    <tr>\n",
       "      <th>DIS</th>\n",
       "      <td>-0.000675</td>\n",
       "    </tr>\n",
       "    <tr>\n",
       "      <th>RAD</th>\n",
       "      <td>0.005235</td>\n",
       "    </tr>\n",
       "    <tr>\n",
       "      <th>TAX</th>\n",
       "      <td>-0.000434</td>\n",
       "    </tr>\n",
       "    <tr>\n",
       "      <th>PTRATIO</th>\n",
       "      <td>-0.017202</td>\n",
       "    </tr>\n",
       "    <tr>\n",
       "      <th>B</th>\n",
       "      <td>0.000207</td>\n",
       "    </tr>\n",
       "    <tr>\n",
       "      <th>LSTAT</th>\n",
       "      <td>-0.037414</td>\n",
       "    </tr>\n",
       "  </tbody>\n",
       "</table>\n",
       "</div>"
      ],
      "text/plain": [
       "         co_eff_elastic\n",
       "CRIM          -0.000000\n",
       "ZN             0.000186\n",
       "INDUS         -0.000000\n",
       "CHAS           0.000000\n",
       "NOX           -0.000000\n",
       "RM             0.000000\n",
       "AGE            0.000580\n",
       "DIS           -0.000675\n",
       "RAD            0.005235\n",
       "TAX           -0.000434\n",
       "PTRATIO       -0.017202\n",
       "B              0.000207\n",
       "LSTAT         -0.037414"
      ]
     },
     "execution_count": 58,
     "metadata": {},
     "output_type": "execute_result"
    }
   ],
   "source": [
    "co_eff_elastic = pd.DataFrame(ELN.coef_,train_x.columns,columns=['co_eff_elastic'])\n",
    "co_eff_elastic"
   ]
  },
  {
   "cell_type": "code",
   "execution_count": 62,
   "id": "11304395",
   "metadata": {},
   "outputs": [
    {
     "data": {
      "text/html": [
       "<div>\n",
       "<style scoped>\n",
       "    .dataframe tbody tr th:only-of-type {\n",
       "        vertical-align: middle;\n",
       "    }\n",
       "\n",
       "    .dataframe tbody tr th {\n",
       "        vertical-align: top;\n",
       "    }\n",
       "\n",
       "    .dataframe thead th {\n",
       "        text-align: right;\n",
       "    }\n",
       "</style>\n",
       "<table border=\"1\" class=\"dataframe\">\n",
       "  <thead>\n",
       "    <tr style=\"text-align: right;\">\n",
       "      <th></th>\n",
       "      <th>co_eff_nonreg</th>\n",
       "      <th>co_eff_ridge</th>\n",
       "      <th>co_eff_lasso</th>\n",
       "      <th>co_eff_elastic</th>\n",
       "    </tr>\n",
       "  </thead>\n",
       "  <tbody>\n",
       "    <tr>\n",
       "      <th>CRIM</th>\n",
       "      <td>-4.037853e-02</td>\n",
       "      <td>-0.040803</td>\n",
       "      <td>-0.000000</td>\n",
       "      <td>-0.000000</td>\n",
       "    </tr>\n",
       "    <tr>\n",
       "      <th>ZN</th>\n",
       "      <td>2.212206e-04</td>\n",
       "      <td>0.000197</td>\n",
       "      <td>0.000463</td>\n",
       "      <td>0.000186</td>\n",
       "    </tr>\n",
       "    <tr>\n",
       "      <th>INDUS</th>\n",
       "      <td>3.214572e-03</td>\n",
       "      <td>0.003012</td>\n",
       "      <td>-0.000000</td>\n",
       "      <td>-0.000000</td>\n",
       "    </tr>\n",
       "    <tr>\n",
       "      <th>CHAS</th>\n",
       "      <td>1.328104e-14</td>\n",
       "      <td>0.000000</td>\n",
       "      <td>0.000000</td>\n",
       "      <td>0.000000</td>\n",
       "    </tr>\n",
       "    <tr>\n",
       "      <th>NOX</th>\n",
       "      <td>-7.840635e-01</td>\n",
       "      <td>-0.701910</td>\n",
       "      <td>-0.000000</td>\n",
       "      <td>-0.000000</td>\n",
       "    </tr>\n",
       "    <tr>\n",
       "      <th>RM</th>\n",
       "      <td>1.563129e-01</td>\n",
       "      <td>0.157166</td>\n",
       "      <td>0.000000</td>\n",
       "      <td>0.000000</td>\n",
       "    </tr>\n",
       "    <tr>\n",
       "      <th>AGE</th>\n",
       "      <td>-1.036088e-03</td>\n",
       "      <td>-0.001089</td>\n",
       "      <td>0.000422</td>\n",
       "      <td>0.000580</td>\n",
       "    </tr>\n",
       "    <tr>\n",
       "      <th>DIS</th>\n",
       "      <td>-5.492814e-02</td>\n",
       "      <td>-0.052959</td>\n",
       "      <td>-0.000000</td>\n",
       "      <td>-0.000675</td>\n",
       "    </tr>\n",
       "    <tr>\n",
       "      <th>RAD</th>\n",
       "      <td>1.921713e-02</td>\n",
       "      <td>0.019131</td>\n",
       "      <td>0.002300</td>\n",
       "      <td>0.005235</td>\n",
       "    </tr>\n",
       "    <tr>\n",
       "      <th>TAX</th>\n",
       "      <td>-4.553392e-04</td>\n",
       "      <td>-0.000460</td>\n",
       "      <td>-0.000375</td>\n",
       "      <td>-0.000434</td>\n",
       "    </tr>\n",
       "    <tr>\n",
       "      <th>PTRATIO</th>\n",
       "      <td>-3.231885e-02</td>\n",
       "      <td>-0.031928</td>\n",
       "      <td>-0.003733</td>\n",
       "      <td>-0.017202</td>\n",
       "    </tr>\n",
       "    <tr>\n",
       "      <th>B</th>\n",
       "      <td>2.132755e-04</td>\n",
       "      <td>0.000215</td>\n",
       "      <td>0.000000</td>\n",
       "      <td>0.000207</td>\n",
       "    </tr>\n",
       "    <tr>\n",
       "      <th>LSTAT</th>\n",
       "      <td>-2.359306e-02</td>\n",
       "      <td>-0.023642</td>\n",
       "      <td>-0.036575</td>\n",
       "      <td>-0.037414</td>\n",
       "    </tr>\n",
       "  </tbody>\n",
       "</table>\n",
       "</div>"
      ],
      "text/plain": [
       "         co_eff_nonreg  co_eff_ridge  co_eff_lasso  co_eff_elastic\n",
       "CRIM     -4.037853e-02     -0.040803     -0.000000       -0.000000\n",
       "ZN        2.212206e-04      0.000197      0.000463        0.000186\n",
       "INDUS     3.214572e-03      0.003012     -0.000000       -0.000000\n",
       "CHAS      1.328104e-14      0.000000      0.000000        0.000000\n",
       "NOX      -7.840635e-01     -0.701910     -0.000000       -0.000000\n",
       "RM        1.563129e-01      0.157166      0.000000        0.000000\n",
       "AGE      -1.036088e-03     -0.001089      0.000422        0.000580\n",
       "DIS      -5.492814e-02     -0.052959     -0.000000       -0.000675\n",
       "RAD       1.921713e-02      0.019131      0.002300        0.005235\n",
       "TAX      -4.553392e-04     -0.000460     -0.000375       -0.000434\n",
       "PTRATIO  -3.231885e-02     -0.031928     -0.003733       -0.017202\n",
       "B         2.132755e-04      0.000215      0.000000        0.000207\n",
       "LSTAT    -2.359306e-02     -0.023642     -0.036575       -0.037414"
      ]
     },
     "execution_count": 62,
     "metadata": {},
     "output_type": "execute_result"
    }
   ],
   "source": [
    "co_eff = pd.concat([co_eff_nonreg,co_eff_ridge,co_eff_lasso,co_eff_elastic],axis = 1)\n",
    "co_eff"
   ]
  },
  {
   "cell_type": "markdown",
   "id": "e4cdda9f",
   "metadata": {},
   "source": [
    "## With Regularization"
   ]
  },
  {
   "cell_type": "markdown",
   "id": "cd90c706",
   "metadata": {},
   "source": [
    "##### Linear Regression (OLS)"
   ]
  },
  {
   "cell_type": "code",
   "execution_count": 79,
   "id": "d00da63e",
   "metadata": {},
   "outputs": [],
   "source": [
    "LNR_reg = linear_model.LinearRegression()\n",
    "LNR_reg.fit(train_x,train_y)\n",
    "LNR_reg_predict = LNR_reg.predict(test_x)\n",
    "LNR_reg_acc = metrics.r2_score(test_y,LNR_reg_predict)"
   ]
  },
  {
   "cell_type": "code",
   "execution_count": 80,
   "id": "493fb77a",
   "metadata": {},
   "outputs": [
    {
     "data": {
      "text/plain": [
       "array(['CRIM', 'ZN', 'INDUS', 'CHAS', 'NOX', 'RM', 'AGE', 'DIS', 'RAD',\n",
       "       'TAX', 'PTRATIO', 'B', 'LSTAT'], dtype=object)"
      ]
     },
     "execution_count": 80,
     "metadata": {},
     "output_type": "execute_result"
    }
   ],
   "source": [
    "co_eff_reg = pd.DataFrame(LNR_reg.coef_,train_x.columns,columns=['co_eff_reg'])\n",
    "co_eff_reg = co_eff_reg.reset_index()\n",
    "co_eff_reg.columns = ['feat','co_eff_reg']\n",
    "LNR_reg_selected = co_eff_reg[co_eff_reg['co_eff_reg']!=0].feat.unique()\n",
    "LNR_reg_selected"
   ]
  },
  {
   "cell_type": "code",
   "execution_count": 81,
   "id": "bbc8f0ca",
   "metadata": {},
   "outputs": [
    {
     "name": "stdout",
     "output_type": "stream",
     "text": [
      "Accuracy achieved using Linear Regression (Non-Regularized is: 0.76 while the number of features used are 13 with the selected features being ['CRIM' 'ZN' 'INDUS' 'CHAS' 'NOX' 'RM' 'AGE' 'DIS' 'RAD' 'TAX' 'PTRATIO'\n",
      " 'B' 'LSTAT']\n"
     ]
    }
   ],
   "source": [
    "print('Accuracy achieved using Linear Regression (Non-Regularized is:',round(LNR_reg_acc,2),\"while the number of features used are\",len(LNR_reg_selected),\"with the selected features being\",LNR_reg_selected)"
   ]
  },
  {
   "cell_type": "markdown",
   "id": "1d7932d9",
   "metadata": {},
   "source": [
    "##### Linear Regression (Ridge)"
   ]
  },
  {
   "cell_type": "code",
   "execution_count": 82,
   "id": "71a12b60",
   "metadata": {},
   "outputs": [],
   "source": [
    "LNR_reg_rid = linear_model.Ridge(alpha=0.1)\n",
    "LNR_reg_rid.fit(train_x,train_y)\n",
    "LNR_reg_rid_predict = LNR_reg_rid.predict(test_x)\n",
    "LNR_reg_rid_acc = metrics.r2_score(test_y,LNR_reg_rid_predict)"
   ]
  },
  {
   "cell_type": "code",
   "execution_count": 83,
   "id": "f2cd655b",
   "metadata": {},
   "outputs": [
    {
     "data": {
      "text/plain": [
       "array(['CRIM', 'ZN', 'INDUS', 'NOX', 'RM', 'AGE', 'DIS', 'RAD', 'TAX',\n",
       "       'PTRATIO', 'B', 'LSTAT'], dtype=object)"
      ]
     },
     "execution_count": 83,
     "metadata": {},
     "output_type": "execute_result"
    }
   ],
   "source": [
    "co_eff_reg_rid = pd.DataFrame(LNR_reg_rid.coef_,train_x.columns,columns=['co_eff_reg_rid'])\n",
    "co_eff_reg_rid = co_eff_reg_rid.reset_index()\n",
    "co_eff_reg_rid.columns = ['feat','co_eff_reg_rid']\n",
    "LNR_reg_rid_selected = co_eff_reg_rid[co_eff_reg_rid['co_eff_reg_rid']!=0].feat.unique()\n",
    "LNR_reg_rid_selected"
   ]
  },
  {
   "cell_type": "code",
   "execution_count": 84,
   "id": "7e100bde",
   "metadata": {},
   "outputs": [
    {
     "name": "stdout",
     "output_type": "stream",
     "text": [
      "Accuracy achieved using Linear Regression (Non-Regularized is: 0.76 while the number of features used are 12 with the selected features being ['CRIM' 'ZN' 'INDUS' 'NOX' 'RM' 'AGE' 'DIS' 'RAD' 'TAX' 'PTRATIO' 'B'\n",
      " 'LSTAT']\n"
     ]
    }
   ],
   "source": [
    "print('Accuracy achieved using Linear Regression (Non-Regularized is:',round(LNR_reg_rid_acc,2),\"while the number of features used are\",len(LNR_reg_rid_selected),\"with the selected features being\",LNR_reg_rid_selected)"
   ]
  },
  {
   "cell_type": "markdown",
   "id": "f1c7f863",
   "metadata": {},
   "source": [
    "##### Linear Regression (lasso)"
   ]
  },
  {
   "cell_type": "code",
   "execution_count": 91,
   "id": "6aa54985",
   "metadata": {},
   "outputs": [],
   "source": [
    "LNR_reg_las = linear_model.Lasso(alpha=0.01)\n",
    "LNR_reg_las.fit(train_x,train_y)\n",
    "LNR_reg_las_predict = LNR_reg_las.predict(test_x)\n",
    "LNR_reg_las_acc = metrics.r2_score(test_y,LNR_reg_las_predict)"
   ]
  },
  {
   "cell_type": "code",
   "execution_count": 92,
   "id": "fbc0b620",
   "metadata": {},
   "outputs": [
    {
     "data": {
      "text/plain": [
       "array(['CRIM', 'ZN', 'RM', 'AGE', 'DIS', 'RAD', 'TAX', 'PTRATIO', 'B',\n",
       "       'LSTAT'], dtype=object)"
      ]
     },
     "execution_count": 92,
     "metadata": {},
     "output_type": "execute_result"
    }
   ],
   "source": [
    "co_eff_reg_las = pd.DataFrame(LNR_reg_las.coef_,train_x.columns,columns=['co_eff_reg_las'])\n",
    "co_eff_reg_las = co_eff_reg_las.reset_index()\n",
    "co_eff_reg_las.columns = ['feat','co_eff_reg_las']\n",
    "LNR_reg_las_selected = co_eff_reg_las[co_eff_reg_las['co_eff_reg_las']!=0].feat.unique()\n",
    "LNR_reg_las_selected"
   ]
  },
  {
   "cell_type": "code",
   "execution_count": 93,
   "id": "1c7964e7",
   "metadata": {},
   "outputs": [
    {
     "name": "stdout",
     "output_type": "stream",
     "text": [
      "Accuracy achieved using Linear Regression (Non-Regularized is: 0.76 while the number of features used are 10 with the selected features being ['CRIM' 'ZN' 'RM' 'AGE' 'DIS' 'RAD' 'TAX' 'PTRATIO' 'B' 'LSTAT']\n"
     ]
    }
   ],
   "source": [
    "print('Accuracy achieved using Linear Regression (Non-Regularized is:',round(LNR_reg_las_acc,2),\"while the number of features used are\",len(LNR_reg_las_selected),\"with the selected features being\",LNR_reg_las_selected)"
   ]
  },
  {
   "cell_type": "markdown",
   "id": "179b7c1e",
   "metadata": {},
   "source": [
    "##### Linear Regression (elastic net)"
   ]
  },
  {
   "cell_type": "code",
   "execution_count": 94,
   "id": "2e99977b",
   "metadata": {},
   "outputs": [],
   "source": [
    "LNR_reg_elast = linear_model.ElasticNet(alpha=0.01)\n",
    "LNR_reg_elast.fit(train_x,train_y)\n",
    "LNR_reg_elast_predict = LNR_reg_elast.predict(test_x)\n",
    "LNR_reg_elast_acc = metrics.r2_score(test_y,LNR_reg_elast_predict)"
   ]
  },
  {
   "cell_type": "code",
   "execution_count": 95,
   "id": "d4a6ee36",
   "metadata": {},
   "outputs": [
    {
     "data": {
      "text/plain": [
       "array(['CRIM', 'ZN', 'RM', 'AGE', 'DIS', 'RAD', 'TAX', 'PTRATIO', 'B',\n",
       "       'LSTAT'], dtype=object)"
      ]
     },
     "execution_count": 95,
     "metadata": {},
     "output_type": "execute_result"
    }
   ],
   "source": [
    "co_eff_reg_elast = pd.DataFrame(LNR_reg_elast.coef_,train_x.columns,columns=['co_eff_reg_elast'])\n",
    "co_eff_reg_elast = co_eff_reg_elast.reset_index()\n",
    "co_eff_reg_elast.columns = ['feat','co_eff_reg_elast']\n",
    "LNR_reg_elast_selected = co_eff_reg_elast[co_eff_reg_elast['co_eff_reg_elast']!=0].feat.unique()\n",
    "LNR_reg_elast_selected"
   ]
  },
  {
   "cell_type": "code",
   "execution_count": 96,
   "id": "9be8cedd",
   "metadata": {},
   "outputs": [
    {
     "name": "stdout",
     "output_type": "stream",
     "text": [
      "Accuracy achieved using Linear Regression (Non-Regularized is: 0.76 while the number of features used are 10 with the selected features being ['CRIM' 'ZN' 'RM' 'AGE' 'DIS' 'RAD' 'TAX' 'PTRATIO' 'B' 'LSTAT']\n"
     ]
    }
   ],
   "source": [
    "print('Accuracy achieved using Linear Regression (Non-Regularized is:',round(LNR_reg_elast_acc,2),\"while the number of features used are\",len(LNR_reg_elast_selected),\"with the selected features being\",LNR_reg_elast_selected)"
   ]
  }
 ],
 "metadata": {
  "kernelspec": {
   "display_name": "Python 3 (ipykernel)",
   "language": "python",
   "name": "python3"
  },
  "language_info": {
   "codemirror_mode": {
    "name": "ipython",
    "version": 3
   },
   "file_extension": ".py",
   "mimetype": "text/x-python",
   "name": "python",
   "nbconvert_exporter": "python",
   "pygments_lexer": "ipython3",
   "version": "3.9.7"
  }
 },
 "nbformat": 4,
 "nbformat_minor": 5
}
